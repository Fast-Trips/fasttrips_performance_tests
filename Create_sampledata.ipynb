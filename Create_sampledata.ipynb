{
 "cells": [
  {
   "cell_type": "code",
   "execution_count": 3,
   "metadata": {
    "collapsed": true
   },
   "outputs": [],
   "source": [
    "\n",
    "import os\n",
    "import pandas as pd\n"
   ]
  },
  {
   "cell_type": "code",
   "execution_count": 86,
   "metadata": {
    "collapsed": true
   },
   "outputs": [],
   "source": [
    "base_dir = r\"/Users/elizabeth/Documents/urbanlabs/MTC/SHRP2/task6/\"\n",
    "demand_f = os.path.join(base_dir,\"trip_list.txt\")\n",
    "districts_f   = os.path.join(base_dir,\"dist40.csv\")\n",
    "district_names_f = os.path.join(base_dir,\"dist40name.csv\")\n",
    "\n",
    "keep_columns = ['person_id', 'person_trip_id', 'person_tour_id', 'o_taz', 'd_taz',\n",
    "       'mode', 'purpose', 'departure_time', 'arrival_time', 'time_target',\n",
    "       'vot', 'PNR_ids']"
   ]
  },
  {
   "cell_type": "code",
   "execution_count": 7,
   "metadata": {
    "collapsed": false
   },
   "outputs": [
    {
     "data": {
      "text/html": [
       "<div>\n",
       "<table border=\"1\" class=\"dataframe\">\n",
       "  <thead>\n",
       "    <tr style=\"text-align: right;\">\n",
       "      <th></th>\n",
       "      <th>SFTAZ</th>\n",
       "      <th>DIST40</th>\n",
       "      <th>DIST40NAME</th>\n",
       "      <th>COUNTY</th>\n",
       "    </tr>\n",
       "  </thead>\n",
       "  <tbody>\n",
       "    <tr>\n",
       "      <th>0</th>\n",
       "      <td>286.0</td>\n",
       "      <td>1.0</td>\n",
       "      <td>StudyZone</td>\n",
       "      <td>SF</td>\n",
       "    </tr>\n",
       "    <tr>\n",
       "      <th>1</th>\n",
       "      <td>296.0</td>\n",
       "      <td>1.0</td>\n",
       "      <td>StudyZone</td>\n",
       "      <td>SF</td>\n",
       "    </tr>\n",
       "    <tr>\n",
       "      <th>2</th>\n",
       "      <td>299.0</td>\n",
       "      <td>1.0</td>\n",
       "      <td>StudyZone</td>\n",
       "      <td>SF</td>\n",
       "    </tr>\n",
       "    <tr>\n",
       "      <th>3</th>\n",
       "      <td>300.0</td>\n",
       "      <td>1.0</td>\n",
       "      <td>StudyZone</td>\n",
       "      <td>SF</td>\n",
       "    </tr>\n",
       "    <tr>\n",
       "      <th>4</th>\n",
       "      <td>302.0</td>\n",
       "      <td>1.0</td>\n",
       "      <td>StudyZone</td>\n",
       "      <td>SF</td>\n",
       "    </tr>\n",
       "  </tbody>\n",
       "</table>\n",
       "</div>"
      ],
      "text/plain": [
       "   SFTAZ  DIST40 DIST40NAME COUNTY\n",
       "0  286.0     1.0  StudyZone     SF\n",
       "1  296.0     1.0  StudyZone     SF\n",
       "2  299.0     1.0  StudyZone     SF\n",
       "3  300.0     1.0  StudyZone     SF\n",
       "4  302.0     1.0  StudyZone     SF"
      ]
     },
     "execution_count": 7,
     "metadata": {},
     "output_type": "execute_result"
    }
   ],
   "source": [
    "districts_df      = pd.read_csv(districts_f, sep=\",\")\n",
    "district_names_df = pd.read_csv(district_names_f, sep=\",\")\n",
    "\n",
    "districts_df = pd.merge(left  = districts_df,\n",
    "                        right = district_names_df,\n",
    "                        how   =\"left\",\n",
    "                        left_on =[\"DIST40\"],\n",
    "                        right_on=[\"DIST40\"])\n",
    "districts_df.head()"
   ]
  },
  {
   "cell_type": "code",
   "execution_count": 48,
   "metadata": {
    "collapsed": false
   },
   "outputs": [
    {
     "data": {
      "text/html": [
       "<div>\n",
       "<table border=\"1\" class=\"dataframe\">\n",
       "  <thead>\n",
       "    <tr style=\"text-align: right;\">\n",
       "      <th></th>\n",
       "      <th>person_id</th>\n",
       "      <th>person_trip_id</th>\n",
       "      <th>person_tour_id</th>\n",
       "      <th>o_taz</th>\n",
       "      <th>d_taz</th>\n",
       "      <th>mode</th>\n",
       "      <th>purpose</th>\n",
       "      <th>departure_time</th>\n",
       "      <th>arrival_time</th>\n",
       "      <th>time_target</th>\n",
       "      <th>vot</th>\n",
       "      <th>PNR_ids</th>\n",
       "      <th>SFTAZ_x</th>\n",
       "      <th>O_DIST</th>\n",
       "      <th>O_DISTNAME</th>\n",
       "      <th>O_COUNTY</th>\n",
       "      <th>SFTAZ_y</th>\n",
       "      <th>D_DIST</th>\n",
       "      <th>D_DISTNAME</th>\n",
       "      <th>D_COUNTY</th>\n",
       "    </tr>\n",
       "  </thead>\n",
       "  <tbody>\n",
       "    <tr>\n",
       "      <th>0</th>\n",
       "      <td>1_1</td>\n",
       "      <td>1_1</td>\n",
       "      <td>1</td>\n",
       "      <td>167</td>\n",
       "      <td>4</td>\n",
       "      <td>walk-transit-walk</td>\n",
       "      <td>other</td>\n",
       "      <td>18:33:00</td>\n",
       "      <td>NaN</td>\n",
       "      <td>departure</td>\n",
       "      <td>1.09</td>\n",
       "      <td>NaN</td>\n",
       "      <td>167.0</td>\n",
       "      <td>5.0</td>\n",
       "      <td>SFEastern</td>\n",
       "      <td>SF</td>\n",
       "      <td>4.0</td>\n",
       "      <td>5.0</td>\n",
       "      <td>SFEastern</td>\n",
       "      <td>SF</td>\n",
       "    </tr>\n",
       "    <tr>\n",
       "      <th>1</th>\n",
       "      <td>9_9</td>\n",
       "      <td>1_0</td>\n",
       "      <td>1</td>\n",
       "      <td>10</td>\n",
       "      <td>954</td>\n",
       "      <td>walk-transit-walk</td>\n",
       "      <td>other</td>\n",
       "      <td>NaN</td>\n",
       "      <td>16:52:00</td>\n",
       "      <td>arrival</td>\n",
       "      <td>5.53</td>\n",
       "      <td>NaN</td>\n",
       "      <td>10.0</td>\n",
       "      <td>5.0</td>\n",
       "      <td>SFEastern</td>\n",
       "      <td>SF</td>\n",
       "      <td>954.0</td>\n",
       "      <td>1.0</td>\n",
       "      <td>StudyZone</td>\n",
       "      <td>SF</td>\n",
       "    </tr>\n",
       "    <tr>\n",
       "      <th>2</th>\n",
       "      <td>9_9</td>\n",
       "      <td>1_2</td>\n",
       "      <td>1</td>\n",
       "      <td>383</td>\n",
       "      <td>10</td>\n",
       "      <td>walk-transit-walk</td>\n",
       "      <td>other</td>\n",
       "      <td>18:32:00</td>\n",
       "      <td>NaN</td>\n",
       "      <td>departure</td>\n",
       "      <td>5.53</td>\n",
       "      <td>NaN</td>\n",
       "      <td>383.0</td>\n",
       "      <td>4.0</td>\n",
       "      <td>Richmond</td>\n",
       "      <td>SF</td>\n",
       "      <td>10.0</td>\n",
       "      <td>5.0</td>\n",
       "      <td>SFEastern</td>\n",
       "      <td>SF</td>\n",
       "    </tr>\n",
       "    <tr>\n",
       "      <th>3</th>\n",
       "      <td>11_11</td>\n",
       "      <td>1_0</td>\n",
       "      <td>1</td>\n",
       "      <td>15</td>\n",
       "      <td>944</td>\n",
       "      <td>walk-transit-walk</td>\n",
       "      <td>other</td>\n",
       "      <td>NaN</td>\n",
       "      <td>15:50:00</td>\n",
       "      <td>arrival</td>\n",
       "      <td>4.66</td>\n",
       "      <td>NaN</td>\n",
       "      <td>15.0</td>\n",
       "      <td>5.0</td>\n",
       "      <td>SFEastern</td>\n",
       "      <td>SF</td>\n",
       "      <td>944.0</td>\n",
       "      <td>1.0</td>\n",
       "      <td>StudyZone</td>\n",
       "      <td>SF</td>\n",
       "    </tr>\n",
       "    <tr>\n",
       "      <th>4</th>\n",
       "      <td>11_11</td>\n",
       "      <td>1_1</td>\n",
       "      <td>1</td>\n",
       "      <td>944</td>\n",
       "      <td>15</td>\n",
       "      <td>walk-transit-walk</td>\n",
       "      <td>other</td>\n",
       "      <td>18:12:00</td>\n",
       "      <td>NaN</td>\n",
       "      <td>departure</td>\n",
       "      <td>4.66</td>\n",
       "      <td>NaN</td>\n",
       "      <td>944.0</td>\n",
       "      <td>1.0</td>\n",
       "      <td>StudyZone</td>\n",
       "      <td>SF</td>\n",
       "      <td>15.0</td>\n",
       "      <td>5.0</td>\n",
       "      <td>SFEastern</td>\n",
       "      <td>SF</td>\n",
       "    </tr>\n",
       "  </tbody>\n",
       "</table>\n",
       "</div>"
      ],
      "text/plain": [
       "  person_id person_trip_id  person_tour_id  o_taz  d_taz               mode  \\\n",
       "0       1_1            1_1               1    167      4  walk-transit-walk   \n",
       "1       9_9            1_0               1     10    954  walk-transit-walk   \n",
       "2       9_9            1_2               1    383     10  walk-transit-walk   \n",
       "3     11_11            1_0               1     15    944  walk-transit-walk   \n",
       "4     11_11            1_1               1    944     15  walk-transit-walk   \n",
       "\n",
       "  purpose departure_time arrival_time time_target   vot  PNR_ids  SFTAZ_x  \\\n",
       "0   other       18:33:00          NaN   departure  1.09      NaN    167.0   \n",
       "1   other            NaN     16:52:00     arrival  5.53      NaN     10.0   \n",
       "2   other       18:32:00          NaN   departure  5.53      NaN    383.0   \n",
       "3   other            NaN     15:50:00     arrival  4.66      NaN     15.0   \n",
       "4   other       18:12:00          NaN   departure  4.66      NaN    944.0   \n",
       "\n",
       "   O_DIST O_DISTNAME O_COUNTY  SFTAZ_y  D_DIST D_DISTNAME D_COUNTY  \n",
       "0     5.0  SFEastern       SF      4.0     5.0  SFEastern       SF  \n",
       "1     5.0  SFEastern       SF    954.0     1.0  StudyZone       SF  \n",
       "2     4.0   Richmond       SF     10.0     5.0  SFEastern       SF  \n",
       "3     5.0  SFEastern       SF    944.0     1.0  StudyZone       SF  \n",
       "4     1.0  StudyZone       SF     15.0     5.0  SFEastern       SF  "
      ]
     },
     "execution_count": 48,
     "metadata": {},
     "output_type": "execute_result"
    }
   ],
   "source": [
    "demand_df = pd.read_csv(demand_f, sep=\",\")\n",
    "\n",
    "demand_df.dropna(axis=0,subset=['person_tour_id'],inplace=True)\n",
    "demand_df.person_tour_id = demand_df.person_tour_id.astype(int)\n",
    "demand_df = pd.merge(left  = demand_df,\n",
    "                        right = districts_df,\n",
    "                        how   =\"left\",\n",
    "                        left_on =[\"o_taz\"],\n",
    "                        right_on=[\"SFTAZ\"])\n",
    "demand_df.rename(columns = {\"DIST40\": \"O_DIST\", \"DIST40NAME\": \"O_DISTNAME\", \"COUNTY\": \"O_COUNTY\"},inplace=True)\n",
    "demand_df = pd.merge(left  = demand_df,\n",
    "                        right = districts_df,\n",
    "                        how   =\"left\",\n",
    "                        left_on =[\"d_taz\"],\n",
    "                        right_on=[\"SFTAZ\"])\n",
    "demand_df.rename(columns = {\"DIST40\": \"D_DIST\", \"DIST40NAME\": \"D_DISTNAME\", \"COUNTY\": \"D_COUNTY\"},inplace=True)\n",
    "demand_df.head()"
   ]
  },
  {
   "cell_type": "markdown",
   "metadata": {},
   "source": [
    "## RICHMOND SAMPLE"
   ]
  },
  {
   "cell_type": "code",
   "execution_count": 88,
   "metadata": {
    "collapsed": false
   },
   "outputs": [
    {
     "name": "stdout",
     "output_type": "stream",
     "text": [
      "Wrote Richmond_144\n",
      "Wrote Richmond_1440\n",
      "Wrote Richmond_14400\n"
     ]
    }
   ],
   "source": [
    "for size in [144,1440,14400]:\n",
    "    NAME        = \"Richmond_%s\" % (size)\n",
    "    DISTRICTS   = [\"Richmond\"]\n",
    "    SAMPLE_SIZE = size\n",
    "    district_df = demand_df.loc[demand_df[\"O_DISTNAME\"].isin(DISTRICTS) & demand_df[\"D_DISTNAME\"].isin(DISTRICTS) ]\n",
    "    #district_df = demand_df.loc[demand_df[\"O_COUNTY\"].isin(DISTRICTS) & demand_df[\"D_COUNTY\"].isin(DISTRICTS) ]\n",
    "    district_sample_df = district_df.sample(n=SAMPLE_SIZE, random_state=13)\n",
    "\n",
    "    if district_df.shape[0]< size:\n",
    "        raise()\n",
    "    \n",
    "    district_sample_df[keep_columns].to_csv(os.path.join(base_dir,\"tests_data\",NAME,\"trip_list.txt\"),index=False)\n",
    "    print \"Wrote Richmond_%s\" % (size)"
   ]
  },
  {
   "cell_type": "markdown",
   "metadata": {},
   "source": [
    "## SF SAMPLE"
   ]
  },
  {
   "cell_type": "code",
   "execution_count": 89,
   "metadata": {
    "collapsed": false
   },
   "outputs": [
    {
     "name": "stdout",
     "output_type": "stream",
     "text": [
      "Wrote SF_144\n",
      "Wrote SF_1440\n",
      "Wrote SF_14400\n"
     ]
    }
   ],
   "source": [
    "for size in [144,1440,14400]:\n",
    "    NAME        = \"SF_%s\" % (size)\n",
    "    DISTRICTS   = [\"SF\"]\n",
    "    SAMPLE_SIZE = size\n",
    "    district_df = demand_df.loc[demand_df[\"O_COUNTY\"].isin(DISTRICTS) & demand_df[\"D_COUNTY\"].isin(DISTRICTS) ]\n",
    "    district_sample_df = district_df.sample(n=SAMPLE_SIZE, random_state=13)\n",
    "\n",
    "    if district_df.shape[0]< size:\n",
    "        raise()\n",
    "    \n",
    "    district_sample_df[keep_columns].to_csv(os.path.join(base_dir,\"tests_data\",NAME,\"trip_list.txt\"),index=False)\n",
    "    print \"Wrote SF_%s\" % (size)"
   ]
  },
  {
   "cell_type": "markdown",
   "metadata": {},
   "source": [
    "## San Mateo Sample"
   ]
  },
  {
   "cell_type": "code",
   "execution_count": 92,
   "metadata": {
    "collapsed": false
   },
   "outputs": [
    {
     "name": "stdout",
     "output_type": "stream",
     "text": [
      "Wrote SM_144\n",
      "Wrote SM_1440\n",
      "Wrote SM_14400\n"
     ]
    }
   ],
   "source": [
    "for size in [144,1440,14400]:\n",
    "    NAME        = \"SM_%s\" % (size)\n",
    "    DISTRICTS   = [\"SM\"]\n",
    "    SAMPLE_SIZE = size\n",
    "    district_df = demand_df.loc[demand_df[\"O_COUNTY\"].isin(DISTRICTS) & demand_df[\"D_COUNTY\"].isin(DISTRICTS) ]\n",
    "    district_sample_df = district_df.sample(n=SAMPLE_SIZE, random_state=13)\n",
    "\n",
    "    if district_df.shape[0]< size:\n",
    "        raise()\n",
    "    \n",
    "    district_sample_df[keep_columns].to_csv(os.path.join(base_dir,\"tests_data\",NAME,\"trip_list.txt\"),index=False)\n",
    "    print \"Wrote SM_%s\" % (size)"
   ]
  },
  {
   "cell_type": "markdown",
   "metadata": {},
   "source": [
    "## Bay Area Sample"
   ]
  },
  {
   "cell_type": "code",
   "execution_count": 94,
   "metadata": {
    "collapsed": false
   },
   "outputs": [
    {
     "name": "stdout",
     "output_type": "stream",
     "text": [
      "Wrote Bay_144\n",
      "Wrote Bay_1440\n",
      "Wrote Bay_14400\n"
     ]
    }
   ],
   "source": [
    "for size in [144,1440,14400]:\n",
    "    NAME        = \"Bay_%s\" % (size)\n",
    "    SAMPLE_SIZE = size\n",
    "    sample_df = demand_df.sample(n=SAMPLE_SIZE, random_state=13)\n",
    "\n",
    "    if demand_df.shape[0]< size:\n",
    "        raise()\n",
    "    \n",
    "    sample_df[keep_columns].to_csv(os.path.join(base_dir,\"tests_data\",NAME,\"trip_list.txt\"),index=False)\n",
    "    print \"Wrote Bay_%s\" % (size)"
   ]
  },
  {
   "cell_type": "code",
   "execution_count": null,
   "metadata": {
    "collapsed": true
   },
   "outputs": [],
   "source": []
  }
 ],
 "metadata": {
  "kernelspec": {
   "display_name": "Python 2",
   "language": "python",
   "name": "python2"
  },
  "language_info": {
   "codemirror_mode": {
    "name": "ipython",
    "version": 2
   },
   "file_extension": ".py",
   "mimetype": "text/x-python",
   "name": "python",
   "nbconvert_exporter": "python",
   "pygments_lexer": "ipython2",
   "version": "2.7.13"
  }
 },
 "nbformat": 4,
 "nbformat_minor": 2
}
